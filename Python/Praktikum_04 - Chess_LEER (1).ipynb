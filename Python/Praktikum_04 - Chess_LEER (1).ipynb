{
 "cells": [
  {
   "cell_type": "markdown",
   "id": "506fffe3",
   "metadata": {},
   "source": [
    "# Einführung Data Science - Praktikum 04 - Chess\n"
   ]
  },
  {
   "cell_type": "markdown",
   "id": "b7114d63",
   "metadata": {},
   "source": [
    "## Bibliotheken importieren"
   ]
  },
  {
   "cell_type": "code",
   "execution_count": null,
   "id": "bd0f2cc7",
   "metadata": {},
   "outputs": [],
   "source": [
    "import os\n",
    "\n",
    "import numpy as np # linear algebra\n",
    "import pandas as pd # data processing, CSV file I/O (e.g. pd.read_csv)\n",
    "import seaborn as sns # data visualization library  \n",
    "import matplotlib.pyplot as plt"
   ]
  },
  {
   "cell_type": "markdown",
   "id": "6a4e5164",
   "metadata": {},
   "source": [
    "## Data laden\n",
    "**Diesmal nicht so einfach --> Parsing nötig!**\n",
    "\n",
    "Die Daten stammen von der Fédération Internationale des Échecs (FIDE, französisch für Internationaler Schachverband): https://ratings.fide.com/download.phtml\n",
    "\n",
    "Hier wollen wir mit dem Datensatz \"**Standard ratings**\" arbeiten. Die Hausaufgabe dazu war, diese Daten (in Form einer .XML-Datei) zu importieren.\n",
    "Dies geht nicht direkt mit Pandas, sondern die Daten müssen erst eingelesen und in ein Python Dictionary (oder eine Liste) umgewandelt werden. Infos zu dem Schach-Rating, der sogenannten ELO-Zahl: https://de.wikipedia.org/wiki/Elo-Zahl.\n",
    "\n",
    "Wird die Datei in einem Editor geöffnet, schaut sie so aus:\n",
    "```\n",
    "<playerslist>\n",
    "<player>\n",
    "<fideid>25121731</fideid>\n",
    "<name>A C J John</name>\n",
    "<country>IND</country>\n",
    "<sex>M</sex>\n",
    "<title></title>\n",
    "<w_title></w_title>\n",
    "<o_title></o_title>\n",
    "<foa_title></foa_title>\n",
    "<rating>1063</rating>\n",
    "<games>0</games>\n",
    "<k>40</k>\n",
    "<birthday>1987</birthday>\n",
    "<flag>i</flag>\n",
    "</player>\n",
    "<player>\n",
    "<fideid>35077023</fideid>\n",
    "…\n",
    "```"
   ]
  },
  {
   "cell_type": "markdown",
   "id": "3d5936a6",
   "metadata": {},
   "source": [
    "## Parser schreiben\n",
    "Es gibt mehrere Möglichkeiten einen sogennanten \"Parser\" zu schreiben um die Datein einzulesen.\n",
    "\n",
    "XML-Dateien können auch verschiedene Arten importiert werden. Grundlegend kann entweder (1) ein völlig eigenständiger Parser geschrieben werden, der Zeile für Zeile die Datei einliest und interpretiert. Das ist aber recht aufwendig. Einfach ist es oft, existierende Python-Bibliotheken zu nutzen, z.B. `xml` oder `xmltodict`.\n",
    "\n",
    "Andere Quellen:\n",
    "\n",
    "- https://www.geeksforgeeks.org/xml-parsing-python/\n",
    "- https://www.w3schools.com/xml/xml_parser.asp\n",
    "- https://www.delftstack.com/de/howto/python/python-xml-parser/\n"
   ]
  },
  {
   "cell_type": "markdown",
   "id": "e3dd7e1e",
   "metadata": {},
   "source": [
    "## Lösung mit `xmltodict`"
   ]
  },
  {
   "cell_type": "code",
   "execution_count": null,
   "id": "fdb702e6",
   "metadata": {},
   "outputs": [],
   "source": [
    "import xmltodict\n",
    "\n",
    "# wenn im selben Ordner\n",
    "file_xml = \"standard_rating_list.xml\"\n",
    "with open(file_xml) as file:\n",
    "    doc = xmltodict.parse(file.read())"
   ]
  },
  {
   "cell_type": "markdown",
   "id": "1762dfdc",
   "metadata": {},
   "source": [
    "### Umwandeln in Pandas DataFrame\n",
    "Mit xmltodoc wird der Inhalt in ein verschachteltes Dictionary umgewandelt."
   ]
  },
  {
   "cell_type": "code",
   "execution_count": null,
   "id": "c39bedec",
   "metadata": {},
   "outputs": [],
   "source": [
    "type(doc[\"playerslist\"][\"player\"])"
   ]
  },
  {
   "cell_type": "code",
   "execution_count": null,
   "id": "c2593d09",
   "metadata": {},
   "outputs": [],
   "source": [
    "doc[\"playerslist\"][\"player\"][:2]"
   ]
  },
  {
   "cell_type": "code",
   "execution_count": null,
   "id": "1d9e65a9",
   "metadata": {},
   "outputs": [],
   "source": [
    "data = pd.DataFrame(doc[\"playerslist\"][\"player\"])"
   ]
  },
  {
   "cell_type": "markdown",
   "id": "e798de81",
   "metadata": {},
   "source": [
    "# (1) Erste Datenerkundung\n",
    "- Wie viele und welche Spalten gibt es? --> `data.columns`\n",
    "- Gibt es fehlende Werte? --> `.info()`\n",
    "- erster Überblick und: Gibt es merkwürdige Einträge --> `.describe()`\n",
    "\n",
    "### Ausfüllen:\n",
    "- Anzahl der Spalten: ...\n",
    "- Gibt es fehlende Werte und wenn ja, welche? ..."
   ]
  },
  {
   "cell_type": "code",
   "execution_count": null,
   "id": "86329680",
   "metadata": {},
   "outputs": [],
   "source": [
    "data.columns"
   ]
  },
  {
   "cell_type": "code",
   "execution_count": null,
   "id": "8490ca7c",
   "metadata": {},
   "outputs": [],
   "source": [
    "data.head()"
   ]
  },
  {
   "cell_type": "code",
   "execution_count": null,
   "id": "b6bb2701",
   "metadata": {},
   "outputs": [],
   "source": [
    "data.describe()"
   ]
  },
  {
   "cell_type": "code",
   "execution_count": null,
   "id": "4f41b57b",
   "metadata": {},
   "outputs": [],
   "source": [
    "data.info()"
   ]
  },
  {
   "cell_type": "markdown",
   "id": "30844edc",
   "metadata": {},
   "source": [
    "# (2) Data cleaning\n",
    "\n",
    "Die Daten können nun für unsere Zwecke etwas vereinfacht werden, indem wir nur die für uns relevanten Feature/Variablen behalten."
   ]
  },
  {
   "cell_type": "markdown",
   "id": "c492e289",
   "metadata": {},
   "source": [
    "Cleanen Sie das DataFrame, indem Sie nur die Spalten `\"name\", \"country\", \"sex\", \"rating\", \"birthday\"` behalten."
   ]
  },
  {
   "cell_type": "code",
   "execution_count": null,
   "id": "abae1fcd",
   "metadata": {},
   "outputs": [],
   "source": [
    "keep_columns = [\"name\", \"country\", \"sex\", \"rating\", \"birthday\"]\n",
    "data = # your code here"
   ]
  },
  {
   "cell_type": "markdown",
   "id": "866e2f0f",
   "metadata": {},
   "source": [
    "Einträge mit fehlenden Werten entfernen (`.dropna()`)"
   ]
  },
  {
   "cell_type": "code",
   "execution_count": null,
   "id": "610d9f07",
   "metadata": {},
   "outputs": [],
   "source": [
    "data = # your code here"
   ]
  },
  {
   "cell_type": "markdown",
   "id": "a863ae97",
   "metadata": {},
   "source": [
    "Wo nötig Strings in Zahlen umwandeln, z.B. mit `data.xyz = data.xyz.astype(int)`."
   ]
  },
  {
   "cell_type": "code",
   "execution_count": null,
   "id": "ea3b69f9",
   "metadata": {},
   "outputs": [],
   "source": [
    "data.rating = # your code here\n",
    "data.birthday = # your code here"
   ]
  },
  {
   "cell_type": "markdown",
   "id": "d86f6324",
   "metadata": {},
   "source": [
    "Die aufgereinigten Daten noch einmal anschauen mit `.head()`, `.info()` sowie `.describe()`. **TIPP**: Um alle Spalten anzuzeigen können wir am besten `.describe(include=\"all\")` ausführen!"
   ]
  },
  {
   "cell_type": "code",
   "execution_count": null,
   "id": "ff01c882",
   "metadata": {},
   "outputs": [],
   "source": [
    "data.head()"
   ]
  },
  {
   "cell_type": "code",
   "execution_count": null,
   "id": "06aa52c3",
   "metadata": {},
   "outputs": [],
   "source": [
    "data.describe(include=\"all\")"
   ]
  },
  {
   "cell_type": "code",
   "execution_count": null,
   "id": "2e59c4e3",
   "metadata": {},
   "outputs": [],
   "source": [
    "data.info()"
   ]
  },
  {
   "cell_type": "markdown",
   "id": "d27515f0",
   "metadata": {},
   "source": [
    "Wie viele verschiedene Länder sind im Datensatz enthalten? (Antwort: ...)"
   ]
  },
  {
   "cell_type": "code",
   "execution_count": null,
   "id": "e8dfced0",
   "metadata": {},
   "outputs": [],
   "source": [
    "# your code here"
   ]
  },
  {
   "cell_type": "markdown",
   "id": "6a493804",
   "metadata": {},
   "source": [
    "In welchem Zahlbereich (range/Spannweite) liegen die Werte für `rating`? (Antwort: ...)"
   ]
  },
  {
   "cell_type": "code",
   "execution_count": null,
   "id": "8f4323a8",
   "metadata": {},
   "outputs": [],
   "source": [
    "# your code here"
   ]
  },
  {
   "cell_type": "markdown",
   "id": "1e9896d0",
   "metadata": {},
   "source": [
    "Wie alt ist der/die älteste Spieler\\*In? (Antwort: ...)"
   ]
  },
  {
   "cell_type": "code",
   "execution_count": null,
   "id": "2368cc8a",
   "metadata": {},
   "outputs": [],
   "source": [
    "# your code here"
   ]
  },
  {
   "cell_type": "markdown",
   "id": "7b3d769a",
   "metadata": {},
   "source": [
    "Wie alt ist der/die jüngste Spieler\\*In? (Antwort: ...)"
   ]
  },
  {
   "cell_type": "code",
   "execution_count": null,
   "id": "3c64540a",
   "metadata": {},
   "outputs": [],
   "source": [
    "# your code here"
   ]
  },
  {
   "cell_type": "markdown",
   "id": "0f1a6b21",
   "metadata": {},
   "source": [
    "---\n",
    "# (3) Analysen\n",
    "\n",
    "\n",
    "## Pandas Wiederholung:\n",
    "\n",
    "### Kategorialer Variablen anschauen\n",
    "Mit Pandas können wir uns sehr schnell und einfach anschauen welche Kategorien wie oft vorkommen, nämlich mit `.value_counts(\"hier_name_der_spalte\")`.\n",
    "\n",
    "### Grafisches Darstellen:\n",
    "Mit Pandas können wir Ergebnisse oft sehr schnell grafisch darstellen, z.B. über `.plot(kind=\"hist\")`. Hierbei können wir aus vielen Typen wählen, etwa `hist`, `pie`, `scatter`, `bar`, `barh`.\n",
    "\n",
    "### Sortieren\n",
    "Um die Tabelle nach Werten zu sortieren nutzen wir `.sort_values(\"name_der_spalte\")`. Dies sortiert die Tabelle nach der gewünschten Spalte, allerdings in aufsteigender Richtung. Für die umgekehrte Sortierung nehmen wir `.sort_values(\"name_der_spalte\", ascending=False)`.\n",
    "\n",
    "### Auswählen von Daten mittels Maske:\n",
    "Wir können einen Teil der Daten mit einer Maske auswählen, nach dem Muster\n",
    "\n",
    "```python\n",
    "mask = (data[spalten_name_hier] == ... )  # <, >, ==, >=,...\n",
    "data[mask]\n",
    "```\n",
    "\n",
    "Mehrere Masken können angewendet werden durch z.B.\n",
    "\n",
    "```python\n",
    "mask1 = (data[spalten_name_hier] == ... )  # <, >, ==, >=,...\n",
    "mask2 = (data[spalten_name_hier] > ... )  \n",
    "data[mask1 & mask2]\n",
    "```"
   ]
  },
  {
   "cell_type": "markdown",
   "id": "a74d4386",
   "metadata": {},
   "source": [
    "## (3.1) Gender-gap und beste Spieler\\*Innen analysieren\n",
    "\n",
    "Wie viele männliche und weibliche Spieler\\*Innen sind im Datensatz enthalten?"
   ]
  },
  {
   "cell_type": "code",
   "execution_count": null,
   "id": "136d058e",
   "metadata": {},
   "outputs": [],
   "source": [
    "# your code here"
   ]
  },
  {
   "cell_type": "markdown",
   "id": "5d66a33b",
   "metadata": {},
   "source": [
    "---\n",
    "Wie ist die Prozentuale Verteilung (männlich vs. weiblich)?"
   ]
  },
  {
   "cell_type": "code",
   "execution_count": null,
   "id": "3d9f175a",
   "metadata": {},
   "outputs": [],
   "source": [
    "f_vs_m = # your code here\n",
    "ratio = # your code here\n",
    "f\"Anteil Frauen: {(ratio*100):.2f} %.\""
   ]
  },
  {
   "cell_type": "markdown",
   "id": "4faa660f",
   "metadata": {},
   "source": [
    "---\n",
    "Erstellen Sie einen Pie-Plot zu dieser Verteilung."
   ]
  },
  {
   "cell_type": "code",
   "execution_count": 1,
   "id": "ab7a43bd",
   "metadata": {},
   "outputs": [],
   "source": [
    "# your code here"
   ]
  },
  {
   "cell_type": "markdown",
   "id": "f483cc6e",
   "metadata": {},
   "source": [
    "---\n",
    "Wie sind die Geburtsjahrgänge bei Männern und Frauen verteilt? Gibt es hier deutliche Unterschiede oder eher nicht?\n",
    "\n",
    "Erstellen Sie jeweils ein Histogramm für Frauen und für Männer. "
   ]
  },
  {
   "cell_type": "code",
   "execution_count": null,
   "id": "d8f7e55c",
   "metadata": {},
   "outputs": [],
   "source": [
    "mask_f = # your code here\n",
    "data[mask_f][\"birthday\"].plot(kind=\"hist\", bins=30, rwidth=0.8)"
   ]
  },
  {
   "cell_type": "code",
   "execution_count": null,
   "id": "489251c0",
   "metadata": {
    "scrolled": true
   },
   "outputs": [],
   "source": [
    "mask_m = # your code here\n",
    "data[mask_m][\"birthday\"].plot(kind=\"hist\", bins=30, rwidth=0.8)"
   ]
  },
  {
   "cell_type": "markdown",
   "id": "9ad0fd29",
   "metadata": {},
   "source": [
    "Vergleichbarkeit verbessern: Normieren auf Wert 1 und mit Transparenz überlappen."
   ]
  },
  {
   "cell_type": "code",
   "execution_count": null,
   "id": "f0ff9e39",
   "metadata": {
    "scrolled": true
   },
   "outputs": [],
   "source": [
    "# Create masks for each gender\n",
    "mask_f = # your code here\n",
    "mask_m = # your code here\n",
    "\n",
    "# Calculate weights for each gender\n",
    "male_weights = np.ones_like(data[mask_m]['birthday']) / len(data[mask_m]['birthday'])\n",
    "female_weights = np.ones_like(data[mask_f]['birthday']) / len(data[mask_f]['birthday'])\n",
    "\n",
    "# Plot the histograms\n",
    "ax = data[mask_m]['birthday'].plot(kind='hist', bins=30, rwidth=0.8, alpha=0.5, label='Male', weights=male_weights)\n",
    "data[mask_f]['birthday'].plot(kind='hist', bins=30, rwidth=0.8, alpha=0.5, label='Female', ax=ax, weights=female_weights)\n",
    "\n",
    "# Customize the plot\n",
    "ax.legend()\n",
    "ax.set_xlabel('Birthday')\n",
    "ax.set_ylabel('Proportion')"
   ]
  },
  {
   "cell_type": "markdown",
   "id": "5ba6d5bd",
   "metadata": {},
   "source": [
    "Schauen Sie sich erneut die prozentuale Verteilung weiblich vs. männlich an. Diesmal jedoch nur für Personen die nach 1999 geboren sind."
   ]
  },
  {
   "cell_type": "code",
   "execution_count": null,
   "id": "a95bcfbd",
   "metadata": {},
   "outputs": [],
   "source": [
    "mask_birthday_2000 = # your code here\n",
    "f_vs_m = # your code here\n",
    "\n",
    "ratio = # your code here\n",
    "f\"Anteil Frauen: {(ratio*100):.2f} %.\""
   ]
  },
  {
   "cell_type": "markdown",
   "id": "a515f009",
   "metadata": {},
   "source": [
    "Was sind die 10, 20, 50, oder 100 besten Spieler\\*Innen?"
   ]
  },
  {
   "cell_type": "code",
   "execution_count": null,
   "id": "b7828175",
   "metadata": {},
   "outputs": [],
   "source": [
    "# your code here"
   ]
  },
  {
   "cell_type": "markdown",
   "id": "589d8e15",
   "metadata": {},
   "source": [
    "Wie sieht die Verteilung Männer vs. Frauen aus in den Top100?"
   ]
  },
  {
   "cell_type": "code",
   "execution_count": null,
   "id": "7e2b2a5e",
   "metadata": {},
   "outputs": [],
   "source": [
    "# Männer/Frauen in Top100\n",
    "top100 = # your code here\n",
    "top100.value_counts(\"sex\")"
   ]
  },
  {
   "cell_type": "markdown",
   "id": "04dee081",
   "metadata": {},
   "source": [
    "## (3.2) ELO-Verteilungen analysieren\n",
    "\n",
    "- Wiederholen sie die Aufgabe aber fügen sie diesmal auch noch eine weitere Auswahlmaske hinzu um die Geburtsjahrgänge einzuschränken. Probieren sie z.B. `< 2002` oder `< 1992`."
   ]
  },
  {
   "cell_type": "markdown",
   "id": "fa84fc2a",
   "metadata": {},
   "source": [
    "Stellen sie die Verteilungen der ELO-Ratings dar für drei Fälle: (1) Alle Spieler\\*Innen, (2) männliche Spieler, (3) weibliche Spielerinnen.  "
   ]
  },
  {
   "cell_type": "markdown",
   "id": "e60f8741",
   "metadata": {},
   "source": [
    "(1) Alle Spieler\\*Innen"
   ]
  },
  {
   "cell_type": "code",
   "execution_count": null,
   "id": "6514a3c8",
   "metadata": {},
   "outputs": [],
   "source": [
    "# your code here"
   ]
  },
  {
   "cell_type": "markdown",
   "id": "d4b5c698",
   "metadata": {},
   "source": [
    "(2) männliche Spieler und (3) weibliche Spielerinnen."
   ]
  },
  {
   "cell_type": "code",
   "execution_count": null,
   "id": "921e8487",
   "metadata": {
    "scrolled": false
   },
   "outputs": [],
   "source": [
    "mask_f = # your code here\n",
    "mask_m = # your code here\n",
    "mask_birthday = # your code here\n",
    "\n",
    "fig, (ax1, ax2) = plt.subplots(2, 1, figsize=(10,8))\n",
    "data[mask_m & mask_birthday][\"rating\"].plot(kind=\"hist\", bins=40, rwidth=0.8,\n",
    "                                    ax=ax1)\n",
    "data[mask_f & mask_birthday][\"rating\"].plot(kind=\"hist\", bins=40, rwidth=0.8,\n",
    "                                    ax=ax2)"
   ]
  },
  {
   "cell_type": "markdown",
   "id": "d13a4b32",
   "metadata": {},
   "source": [
    "Nochmal normieren und überlappen:"
   ]
  },
  {
   "cell_type": "code",
   "execution_count": null,
   "id": "3913b623",
   "metadata": {},
   "outputs": [],
   "source": [
    "mask_birthday = data[\"birthday\"] < 2002\n",
    "data_m = data[mask_m & mask_birthday]\n",
    "data_f = data[mask_f & mask_birthday]\n",
    "\n",
    "\n",
    "bins = 30\n",
    "\n",
    "weights_m = np.ones_like(data_m[\"rating\"]) / len(data_m)\n",
    "weights_f = np.ones_like(data_f[\"rating\"]) / len(data_f)\n",
    "\n",
    "plt.hist(data_m[\"rating\"], bins=bins, rwidth=0.8, alpha=0.5, label='Male', weights=weights_m)\n",
    "plt.hist(data_f[\"rating\"], bins=bins, rwidth=0.8, alpha=0.5, label='Female', weights=weights_f)\n",
    "\n",
    "plt.xlabel('Rating')\n",
    "plt.ylabel('Frequency')\n",
    "plt.title('Rating distribution')\n",
    "plt.legend(loc='upper right')"
   ]
  },
  {
   "cell_type": "markdown",
   "id": "0ccfedb8",
   "metadata": {},
   "source": [
    "**Nächster Schritt:** Ein Land herausgreifen."
   ]
  },
  {
   "cell_type": "markdown",
   "id": "d230d12e",
   "metadata": {},
   "source": [
    "## Welches Land untersuchen?\n",
    "Wir können schauen in welchen Ländern viele weibliche Spielerinnen registriert sind, indem wir die Daten vorfiltern (nur Frauen) und dann mit `.value_counts(\"country\")` nach Ländern zählen."
   ]
  },
  {
   "cell_type": "code",
   "execution_count": null,
   "id": "e08a91e7",
   "metadata": {},
   "outputs": [],
   "source": [
    "mask_f = # your code here\n",
    "data_female_per_country = # your code here\n",
    "# sortiert\n",
    "# your code here"
   ]
  },
  {
   "cell_type": "markdown",
   "id": "a1ba802d",
   "metadata": {},
   "source": [
    "Für ein besseres Bild auch für die Männer betrachten."
   ]
  },
  {
   "cell_type": "code",
   "execution_count": null,
   "id": "55649217",
   "metadata": {},
   "outputs": [],
   "source": [
    "mask_m = # your code here\n",
    "data_male_per_country = # your code here\n",
    "# sortiert\n",
    "# your code here"
   ]
  },
  {
   "cell_type": "markdown",
   "id": "5c9121f3",
   "metadata": {},
   "source": [
    "Nun schauen wir nach Ländern mit einer repräsentativen Anzahl an Frauen. Wir filtern weiter und schauen in welchem Land mindestens 500 Spielerinnen registriert sind."
   ]
  },
  {
   "cell_type": "code",
   "execution_count": null,
   "id": "89639d55",
   "metadata": {
    "scrolled": true
   },
   "outputs": [],
   "source": [
    "mask_f_count_500 = # your code here\n",
    "# gefilterte Daten ausgeben\n",
    "# your code here"
   ]
  },
  {
   "cell_type": "markdown",
   "id": "91a796c2",
   "metadata": {},
   "source": [
    "Es ist jedoch nicht nur eine Mindestanzahl ausschlaggebend. Wir suchen darüberhinaus ein möglichst ausgeglichenes Verhältnis von Frauen zu Männern. Wir erstellen eine Liste mit allen Ländern, indem wir uns von `data_female_per_country` den Index ausgeben lassen: "
   ]
  },
  {
   "cell_type": "code",
   "execution_count": null,
   "id": "f4aa99e8",
   "metadata": {
    "scrolled": true
   },
   "outputs": [],
   "source": [
    "countries_with_500_females = data_female_per_country[mask_f_count_500].index\n",
    "countries_with_500_females"
   ]
  },
  {
   "cell_type": "markdown",
   "id": "9670e723",
   "metadata": {},
   "source": [
    "Statt einer Maske zu nutzen, können wir auch die `.isin()` - Methode benutzen, welcher wir unsere Länderliste `countries_with_500_females` übergeben können. Dies können wir nun auf `data_male` anwenden."
   ]
  },
  {
   "cell_type": "code",
   "execution_count": null,
   "id": "3a791b94",
   "metadata": {
    "scrolled": true
   },
   "outputs": [],
   "source": [
    "data_male = data[mask_m]\n",
    "\n",
    "mask_filtered_data_m = # your code here\n",
    "filtered_data_m = # your code here\n",
    "data_male_per_country = # your code here"
   ]
  },
  {
   "cell_type": "code",
   "execution_count": null,
   "id": "5a912ebc",
   "metadata": {},
   "outputs": [],
   "source": [
    "print(data_male_per_country)"
   ]
  },
  {
   "cell_type": "code",
   "execution_count": null,
   "id": "0fa46021",
   "metadata": {},
   "outputs": [],
   "source": [
    "print(data_female_per_country)"
   ]
  },
  {
   "cell_type": "markdown",
   "id": "098cffeb",
   "metadata": {},
   "source": [
    "Möchte man von einem Pandas `Series`-Objekt den Index und die Werte auslesen, kann man die Methode `.iteritems()` benutzen. Zur Demonstartion nutzen wir diese in einer For-Schleife zur besseren Veranschaulichung (in der Konsole) der bisher gefilterten Daten. Aufhübschungs mit f-Strings und einer \"gebastelten\" Tabelle:"
   ]
  },
  {
   "cell_type": "code",
   "execution_count": null,
   "id": "2801d537",
   "metadata": {},
   "outputs": [],
   "source": [
    "print(f\"{'Country':^10}|{'Male':^10}|{'Female':^10}\")\n",
    "print(\"-\" * 32)\n",
    "\n",
    "for idx, value in data_male_per_country.iteritems():\n",
    "    female_value = data_female_per_country.loc[idx]\n",
    "    print(f\"{idx:^10}|{value:^10}|{female_value:^10}\")"
   ]
  },
  {
   "cell_type": "markdown",
   "id": "06e522d0",
   "metadata": {},
   "source": [
    "Nun berechnen wir noch die prozentuale Frauenanteile pro Land."
   ]
  },
  {
   "cell_type": "code",
   "execution_count": null,
   "id": "ff9f0e87",
   "metadata": {},
   "outputs": [],
   "source": [
    "ratios = # your code here\n",
    "print(ratios.sort_values(ascending=False))"
   ]
  },
  {
   "cell_type": "markdown",
   "id": "29767764",
   "metadata": {},
   "source": [
    "Wir fügen die Verhältnisse der Tabelle hinzu."
   ]
  },
  {
   "cell_type": "code",
   "execution_count": null,
   "id": "57249940",
   "metadata": {},
   "outputs": [],
   "source": [
    "print(f\"{'Country':^10}|{'Male':^10}|{'Female':^10}|{'Ratio':^10}\")\n",
    "print(\"-\" * 43)\n",
    "\n",
    "for idx, value in data_male_per_country.iteritems():\n",
    "    female_value = data_female_per_country.loc[idx]\n",
    "    ratio = f\"{ratios.loc[idx] * 100:.2f} %\"\n",
    "    print(f\"{idx:^10}|{value:^10}|{female_value:^10}|{ratio:^10}\")"
   ]
  },
  {
   "cell_type": "markdown",
   "id": "398f43b2",
   "metadata": {},
   "source": [
    "Schauen wir uns ELO-Rating Verteilungen für Frauen in potentiell \"gut zu untersuchenden\" Ländern an nach den Kriterien \"möglichst viele Personen und möglichst ausgeglichenes Verhältnis\".\n",
    "\n",
    "Hierfür wollen wir uns wieder zwei überlappte Barplots ansehen mit normierten ELO-Ratings."
   ]
  },
  {
   "cell_type": "code",
   "execution_count": null,
   "id": "57066286",
   "metadata": {},
   "outputs": [],
   "source": [
    "mask_birthday = # your code here\n",
    "mask_country = # your code here\n",
    "data_m = data[mask_m & mask_country & mask_birthday]\n",
    "data_f = data[mask_f & mask_country & mask_birthday]\n",
    "\n",
    "weights_m = np.ones_like(data_m[\"rating\"]) / len(data_m)\n",
    "weights_f = np.ones_like(data_f[\"rating\"]) / len(data_f)\n",
    "\n",
    "bins = 30\n",
    "\n",
    "data_m[\"rating\"].plot(kind=\"hist\", bins=bins, rwidth=0.8, alpha=0.5, label='Male', weights=weights_m, legend=True)\n",
    "data_f[\"rating\"].plot(kind=\"hist\", bins=bins, rwidth=0.8, alpha=0.5, label='Female', weights=weights_f, legend=True)\n",
    "\n",
    "plt.xlabel('Rating')\n",
    "plt.ylabel('Frequency')\n",
    "plt.title('Rating distribution')\n",
    "plt.legend(loc='upper right')"
   ]
  },
  {
   "cell_type": "markdown",
   "id": "ae41fe42",
   "metadata": {},
   "source": [
    "### BEISPIEL - Alternative Möglichkeit des Plots für Männer/Frauen aus Indien (Geburtsjahrgänge < 2002)"
   ]
  },
  {
   "cell_type": "code",
   "execution_count": null,
   "id": "c95df2bc",
   "metadata": {},
   "outputs": [],
   "source": [
    "mask_year = data[\"birthday\"] < 2002\n",
    "mask_country = data[\"country\"] == \"IND\"\n",
    "\n",
    "\n",
    "a, b = np.histogram(data[mask_f & mask_year & mask_country][\"rating\"], bins= 50)\n",
    "c, d = np.histogram(data[mask_m & mask_year & mask_country][\"rating\"], bins= 50)\n",
    "\n",
    "fig, ax = plt.subplots(figsize=(10, 6))\n",
    "delta_bin_F = b[1] - b[0]\n",
    "delta_bin_M = d[1] - d[0]\n",
    "\n",
    "ax.plot(b[1:] - delta_bin_F/2, a/np.sum(a), \".--\", label=\"Frauen\")\n",
    "ax.plot(d[1:] - delta_bin_M/2, c/np.sum(c), \".--\", label=\"Männer\")\n",
    "\n",
    "ax.set_xlabel(\"ELO rating\")\n",
    "ax.set_ylabel(\"Fraction\")\n",
    "plt.legend()\n",
    "plt.title(\"Compare chess players form India, born before 2000\")"
   ]
  }
 ],
 "metadata": {
  "kernelspec": {
   "display_name": "Python 3 (ipykernel)",
   "language": "python",
   "name": "python3"
  },
  "language_info": {
   "codemirror_mode": {
    "name": "ipython",
    "version": 3
   },
   "file_extension": ".py",
   "mimetype": "text/x-python",
   "name": "python",
   "nbconvert_exporter": "python",
   "pygments_lexer": "ipython3",
   "version": "3.9.7"
  }
 },
 "nbformat": 4,
 "nbformat_minor": 5
}
